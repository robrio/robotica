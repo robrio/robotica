{
  "nbformat": 4,
  "nbformat_minor": 0,
  "metadata": {
    "colab": {
      "name": "python_esempi.ipynb",
      "provenance": [],
      "collapsed_sections": []
    },
    "kernelspec": {
      "name": "python3",
      "display_name": "Python 3"
    },
    "language_info": {
      "name": "python"
    }
  },
  "cells": [
    {
      "cell_type": "markdown",
      "source": [
        " python è il linguaggio migliore per iniziare a programmare. In C++ stampare hello world richiedeva circa 10 linee di codice. In python questo non accade la prima riga di codice letta viene eseguita . Ecco il codice per eseguire la nostra prima stampa."
      ],
      "metadata": {
        "id": "rbN4GiNbbqqB"
      }
    },
    {
      "cell_type": "markdown",
      "source": [
        "Per calcolare l'area di un quadrato in C++ :\n",
        "\n",
        "'#include \"<\"iostream>\n",
        "\n",
        "using namespace std;\n",
        "\n",
        "int main()\n",
        "{\n",
        "\n",
        "   float area, lato;\n",
        "\n",
        "   cout << \"Inserisci il lato del quadrato:\";\n",
        "\n",
        "   cin >> lato;\n",
        "\n",
        "   area = lato  * lato;\n",
        "\n",
        "   cout << \"Area : \" << area << endl;\n",
        "\n",
        "   return 0;\n",
        "   \n",
        "} "
      ],
      "metadata": {
        "id": "EGrU2zrgcX3M"
      }
    },
    {
      "cell_type": "code",
      "source": [
        "lato = float(input('Inserisci il lato del quadrato: '))\n",
        "area = lato * lato\n",
        "print(\"l'area è : \" + str(area))"
      ],
      "metadata": {
        "colab": {
          "base_uri": "https://localhost:8080/"
        },
        "id": "YdOQ4h9QcJG5",
        "outputId": "5af99651-d1d2-4b26-b90d-35f2bc494d51"
      },
      "execution_count": null,
      "outputs": [
        {
          "output_type": "stream",
          "name": "stdout",
          "text": [
            "Inserisci il lato del quadrato: 6\n",
            "l'area è : 36.0\n"
          ]
        }
      ]
    },
    {
      "cell_type": "markdown",
      "source": [
        "Comando IF"
      ],
      "metadata": {
        "id": "35QvgJCfdsb4"
      }
    },
    {
      "cell_type": "code",
      "source": [
        "eta = int(input('Inserisci la tua eta: '))\n",
        "if(eta >= 18):\n",
        "  print('Sei maggiorenne')\n",
        "else:\n",
        "  print('Sei minorenne')"
      ],
      "metadata": {
        "colab": {
          "base_uri": "https://localhost:8080/"
        },
        "id": "rI08sxbTdpXv",
        "outputId": "fe418752-f6ea-4d75-8365-7805fdfecd4a"
      },
      "execution_count": null,
      "outputs": [
        {
          "output_type": "stream",
          "name": "stdout",
          "text": [
            "Inserisci la tua eta: 17\n",
            "sei minorenne\n"
          ]
        }
      ]
    },
    {
      "cell_type": "code",
      "source": [
        "import datetime\n",
        "data_oggi = datetime.date.today()\n",
        "annocorrente = int(data_oggi.strftime(\"%Y\"))\n",
        "#print(annocorrente)\n",
        "anno = int(input('Inserisci il tuo anno di nascita: '))\n",
        "anni = annocorrente - anno;\n",
        "if( anni >= 18):\n",
        "  print('Sei maggiorenne ed hai ' + str(anni) + \" anni\")\n",
        "else:\n",
        "  print('Sei minorenne ed hai ' + str(anni) + \" anni\")"
      ],
      "metadata": {
        "colab": {
          "base_uri": "https://localhost:8080/"
        },
        "id": "Lxkv-kdJeF-t",
        "outputId": "fc8cecd8-abad-4c11-91a4-69c69be53ddc"
      },
      "execution_count": null,
      "outputs": [
        {
          "output_type": "stream",
          "name": "stdout",
          "text": [
            "Inserisci il tuo anno di nascita: 2004\n",
            "Sei maggiorenne ed hai 18anni\n"
          ]
        }
      ]
    },
    {
      "cell_type": "markdown",
      "source": [
        "Comando FOR"
      ],
      "metadata": {
        "id": "f8tqt1lmfGLG"
      }
    },
    {
      "cell_type": "code",
      "source": [
        "lista = []\n",
        "for i in range(10):\n",
        "  lista.append(i)\n",
        "print(lista)"
      ],
      "metadata": {
        "colab": {
          "base_uri": "https://localhost:8080/"
        },
        "id": "rblPQGa2fEjC",
        "outputId": "8397d25c-dc32-4e5e-dd94-1884d987aa67"
      },
      "execution_count": null,
      "outputs": [
        {
          "output_type": "stream",
          "name": "stdout",
          "text": [
            "[0, 1, 2, 3, 4, 5, 6, 7, 8, 9]\n"
          ]
        }
      ]
    },
    {
      "cell_type": "code",
      "source": [
        "lista = []\n",
        "for i in range(1,10,2):\n",
        "  lista.append(i)\n",
        "print(lista)"
      ],
      "metadata": {
        "colab": {
          "base_uri": "https://localhost:8080/"
        },
        "id": "VK6DYwxcf6QX",
        "outputId": "78763e40-fb13-4827-a782-5136f6b7a3c4"
      },
      "execution_count": null,
      "outputs": [
        {
          "output_type": "stream",
          "name": "stdout",
          "text": [
            "[1, 3, 5, 7, 9]\n"
          ]
        }
      ]
    },
    {
      "cell_type": "code",
      "source": [
        "lista = []\n",
        "for i in range(10,1,-1):\n",
        "  lista.append(i)\n",
        "print(lista)"
      ],
      "metadata": {
        "colab": {
          "base_uri": "https://localhost:8080/"
        },
        "id": "sr2M1kJAf-Kr",
        "outputId": "68a1b71d-7a60-4569-8085-195235467510"
      },
      "execution_count": null,
      "outputs": [
        {
          "output_type": "stream",
          "name": "stdout",
          "text": [
            "[10, 9, 8, 7, 6, 5, 4, 3, 2]\n"
          ]
        }
      ]
    },
    {
      "cell_type": "code",
      "source": [
        "lista = []\n",
        "for i in range(10,1,-2):\n",
        "  lista.append(i)\n",
        "print(lista)"
      ],
      "metadata": {
        "colab": {
          "base_uri": "https://localhost:8080/"
        },
        "id": "KORfXsr2gB-B",
        "outputId": "e30a8b3f-746a-499c-a91c-1a5dcfc0e94f"
      },
      "execution_count": null,
      "outputs": [
        {
          "output_type": "stream",
          "name": "stdout",
          "text": [
            "[10, 8, 6, 4, 2]\n"
          ]
        }
      ]
    },
    {
      "cell_type": "code",
      "source": [
        "lista = [10, 8, 6, 4, 2]\n",
        "for item in lista:\n",
        "  print(item)"
      ],
      "metadata": {
        "colab": {
          "base_uri": "https://localhost:8080/"
        },
        "id": "-N2Wv6V_gE-F",
        "outputId": "c914d448-5ba0-4887-fbd0-a95635b7e753"
      },
      "execution_count": null,
      "outputs": [
        {
          "output_type": "stream",
          "name": "stdout",
          "text": [
            "10\n",
            "8\n",
            "6\n",
            "4\n",
            "2\n"
          ]
        }
      ]
    },
    {
      "cell_type": "code",
      "source": [
        "array = [5,4,20,10,3,2,1]\n",
        "print(sorted(array,reverse = True))"
      ],
      "metadata": {
        "colab": {
          "base_uri": "https://localhost:8080/"
        },
        "id": "_6lFi8A0ggNw",
        "outputId": "1e01635c-f6e2-48bc-d783-4d181c327fed"
      },
      "execution_count": null,
      "outputs": [
        {
          "output_type": "stream",
          "name": "stdout",
          "text": [
            "[20, 10, 5, 4, 3, 2, 1]\n"
          ]
        }
      ]
    },
    {
      "cell_type": "code",
      "source": [
        "print(sorted(array,reverse = False))"
      ],
      "metadata": {
        "colab": {
          "base_uri": "https://localhost:8080/"
        },
        "id": "iMrIgT04hHNu",
        "outputId": "5607e998-8473-4d11-96ad-551ad8b58f92"
      },
      "execution_count": null,
      "outputs": [
        {
          "output_type": "stream",
          "name": "stdout",
          "text": [
            "[1, 2, 3, 4, 5, 10, 20]\n"
          ]
        }
      ]
    },
    {
      "cell_type": "code",
      "source": [
        "array = [5,4,20,10,3,2,1]\n"
      ],
      "metadata": {
        "id": "jeQrEm7eoF3Q"
      },
      "execution_count": 1,
      "outputs": []
    },
    {
      "cell_type": "code",
      "source": [
        "def minimo(vettore):\n",
        "  min = vettore[0]\n",
        "  for indice in range(1,len(vettore)):\n",
        "    if vettore[indice] < min:\n",
        "      print(\"il minimo attuale e'\" + str(min))\n",
        "      min = vettore[indice]\n",
        "      print(\"il minimo è cambiato e' \" + str(min))\n",
        "  return min"
      ],
      "metadata": {
        "id": "vPR_0nWvhJVg"
      },
      "execution_count": 6,
      "outputs": []
    },
    {
      "cell_type": "code",
      "source": [
        "valore_minimo = minimo(array)\n",
        "print(valore_minimo)\n",
        "[5,4,20,10,3,2,1]"
      ],
      "metadata": {
        "colab": {
          "base_uri": "https://localhost:8080/"
        },
        "id": "AF6XiMBZhjRu",
        "outputId": "ef2f9cc9-f6bc-44a2-9bb5-f03942f763af"
      },
      "execution_count": 7,
      "outputs": [
        {
          "output_type": "stream",
          "name": "stdout",
          "text": [
            "il minimo attuale e'5\n",
            "il minimo è cambiato e' 4\n",
            "il minimo attuale e'4\n",
            "il minimo è cambiato e' 3\n",
            "il minimo attuale e'3\n",
            "il minimo è cambiato e' 2\n",
            "il minimo attuale e'2\n",
            "il minimo è cambiato e' 1\n",
            "1\n"
          ]
        }
      ]
    },
    {
      "cell_type": "code",
      "source": [
        "def minimo_intelligente(vettore):\n",
        "  vett = sorted(array,reverse = False)\n",
        "  return vett[0]"
      ],
      "metadata": {
        "id": "aetdFW23h0Jn"
      },
      "execution_count": 9,
      "outputs": []
    },
    {
      "cell_type": "code",
      "source": [
        "valore_minimo = minimo_intelligente(array)\n",
        "print(valore_minimo)"
      ],
      "metadata": {
        "colab": {
          "base_uri": "https://localhost:8080/"
        },
        "id": "1ndsmPr9h742",
        "outputId": "cf5576fd-c8d4-4365-e69f-171cbb852982"
      },
      "execution_count": 10,
      "outputs": [
        {
          "output_type": "stream",
          "name": "stdout",
          "text": [
            "1\n"
          ]
        }
      ]
    },
    {
      "cell_type": "code",
      "source": [
        "nome = input(\"Inserisci un nome: \")\n",
        "lista = [\"Antonio\",\"Emanuele\"]\n",
        "trovato = False\n",
        "for elemento in lista:\n",
        "  if(nome == elemento):\n",
        "    trovato = True\n",
        "    break\n",
        "if trovato:\n",
        "  print(\"Ok hai l'accesso\")\n",
        "else:\n",
        "  print(\"Non hai l'accesso\")"
      ],
      "metadata": {
        "colab": {
          "base_uri": "https://localhost:8080/"
        },
        "id": "pG8z7SonqaPR",
        "outputId": "eb14f8aa-4f61-4262-ebae-940096445f19"
      },
      "execution_count": 12,
      "outputs": [
        {
          "output_type": "stream",
          "name": "stdout",
          "text": [
            "Inserisci un nome: Michele\n",
            "Non hai l'accesso\n"
          ]
        }
      ]
    },
    {
      "cell_type": "code",
      "source": [
        "array[::-1]"
      ],
      "metadata": {
        "colab": {
          "base_uri": "https://localhost:8080/"
        },
        "id": "SsgESFWFiCpm",
        "outputId": "b7520c94-bcf6-4407-e926-493c273886d2"
      },
      "execution_count": null,
      "outputs": [
        {
          "output_type": "execute_result",
          "data": {
            "text/plain": [
              "[1, 2, 3, 10, 20, 4, 5]"
            ]
          },
          "metadata": {},
          "execution_count": 21
        }
      ]
    },
    {
      "cell_type": "code",
      "source": [
        "dizionario = {\"array_ordinato_crescente\":sorted(array,reverse = False),\"array_ordinato_decrescente\":sorted(array,reverse = True),\"array_inverso\":array[::-1],\"array\":array}\n",
        "dizionario.keys()\n"
      ],
      "metadata": {
        "colab": {
          "base_uri": "https://localhost:8080/"
        },
        "id": "t4bHFyVgiXZv",
        "outputId": "b58c9143-fab6-469c-cb9d-a8d536a5b307"
      },
      "execution_count": null,
      "outputs": [
        {
          "output_type": "execute_result",
          "data": {
            "text/plain": [
              "dict_keys(['array_ordinato_crescente', 'array_ordinato_decrescente', 'array_inverso', 'array'])"
            ]
          },
          "metadata": {},
          "execution_count": 33
        }
      ]
    },
    {
      "cell_type": "markdown",
      "source": [
        "Codice per la somma"
      ],
      "metadata": {
        "id": "9ZSgF7H-tqio"
      }
    },
    {
      "cell_type": "code",
      "source": [
        "array = [1,4,7,10,-2,11,20]\n",
        "somma = 0\n",
        "for numero in array:\n",
        "  somma = somma + numero\n",
        "print(somma)"
      ],
      "metadata": {
        "colab": {
          "base_uri": "https://localhost:8080/"
        },
        "id": "GQTg3N4woJl1",
        "outputId": "411c6aa6-831f-49a0-acb7-52b4e6198f0b"
      },
      "execution_count": 14,
      "outputs": [
        {
          "output_type": "stream",
          "name": "stdout",
          "text": [
            "20\n"
          ]
        }
      ]
    },
    {
      "cell_type": "code",
      "source": [
        "sum(array)"
      ],
      "metadata": {
        "colab": {
          "base_uri": "https://localhost:8080/"
        },
        "id": "JPwrY6fwtX3E",
        "outputId": "a1711357-e9a5-4ed1-b557-af876756a88b"
      },
      "execution_count": 15,
      "outputs": [
        {
          "output_type": "execute_result",
          "data": {
            "text/plain": [
              "51"
            ]
          },
          "metadata": {},
          "execution_count": 15
        }
      ]
    },
    {
      "cell_type": "code",
      "source": [
        "array = [1,4,7,0,-2,11,20]\n",
        "divisione = 1\n",
        "for numero in array:\n",
        "  try:\n",
        "    divisione = divisione / numero\n",
        "  except:\n",
        "    print(\"hai inserito uno zero\")\n",
        "  print(divisione)\n",
        "print(divisione)"
      ],
      "metadata": {
        "colab": {
          "base_uri": "https://localhost:8080/"
        },
        "id": "TgfpEkwhvmJQ",
        "outputId": "090ca59b-4cf7-4aaa-94b9-608f46fb12cd"
      },
      "execution_count": 27,
      "outputs": [
        {
          "output_type": "stream",
          "name": "stdout",
          "text": [
            "1.0\n",
            "0.25\n",
            "0.03571428571428571\n",
            "hai inserito uno zero\n",
            "0.03571428571428571\n",
            "-0.017857142857142856\n",
            "-0.0016233766233766233\n",
            "-8.116883116883117e-05\n",
            "-8.116883116883117e-05\n"
          ]
        }
      ]
    },
    {
      "cell_type": "code",
      "source": [
        "try:\n",
        "  divisione = 4 /0\n",
        "except:\n",
        "  print(\"Non si puo\")"
      ],
      "metadata": {
        "colab": {
          "base_uri": "https://localhost:8080/"
        },
        "id": "HLb7n-SFvI8F",
        "outputId": "af62af86-0de0-4084-a682-f6bd75ce516e"
      },
      "execution_count": 23,
      "outputs": [
        {
          "output_type": "stream",
          "name": "stdout",
          "text": [
            "Non si puo\n"
          ]
        }
      ]
    },
    {
      "cell_type": "code",
      "source": [
        ""
      ],
      "metadata": {
        "id": "jA-azmALvI7F"
      },
      "execution_count": null,
      "outputs": []
    }
  ]
}
